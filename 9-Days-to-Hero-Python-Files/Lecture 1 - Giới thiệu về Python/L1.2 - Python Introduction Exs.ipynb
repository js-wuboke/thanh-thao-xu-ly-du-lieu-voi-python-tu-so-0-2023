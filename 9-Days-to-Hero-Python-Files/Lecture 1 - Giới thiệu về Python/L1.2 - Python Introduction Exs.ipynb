{
 "cells": [
  {
   "attachments": {},
   "cell_type": "markdown",
   "metadata": {},
   "source": [
    "👉 Ex1: Nhập từ bàn phím độ dài 2 cạnh của hình chữ nhật và in ra màn hình diện tích của hình chữ nhật đó."
   ]
  },
  {
   "attachments": {},
   "cell_type": "markdown",
   "metadata": {},
   "source": [
    "✳️ hint: int(*str*): to convert a string to integer"
   ]
  },
  {
   "cell_type": "code",
   "execution_count": 1,
   "metadata": {},
   "outputs": [
    {
     "name": "stdout",
     "output_type": "stream",
     "text": [
      "Dien tich hinh chu nhat la: 150\n"
     ]
    }
   ],
   "source": [
    "# Your code here!\n",
    "a = int(input('pls input a length:'))\n",
    "b = int(input('pls input b length:'))\n",
    "\n",
    "s = a*b\n",
    "print('Dien tich hinh chu nhat la:', s)"
   ]
  },
  {
   "attachments": {},
   "cell_type": "markdown",
   "metadata": {},
   "source": [
    "👉 Ex2: Chuyển các ký tự trong biến words thành: in hoa; viết hoa chữ cái đầu, chữ thường"
   ]
  },
  {
   "cell_type": "code",
   "execution_count": 2,
   "metadata": {},
   "outputs": [],
   "source": [
    "words = 'You only live once, but if you do it right, once is enough.'"
   ]
  },
  {
   "cell_type": "code",
   "execution_count": 3,
   "metadata": {},
   "outputs": [
    {
     "name": "stdout",
     "output_type": "stream",
     "text": [
      "YOU ONLY LIVE ONCE, BUT IF YOU DO IT RIGHT, ONCE IS ENOUGH.\n",
      "You Only Live Once, But If You Do It Right, Once Is Enough.\n",
      "you only live once, but if you do it right, once is enough.\n"
     ]
    }
   ],
   "source": [
    "# Your code here!\n",
    "print(words.upper())\n",
    "print(words.title())\n",
    "print(words.lower())"
   ]
  },
  {
   "attachments": {},
   "cell_type": "markdown",
   "metadata": {},
   "source": [
    "👉 Ex3: Lấy chữ 'live' từ trong chuỗi words"
   ]
  },
  {
   "cell_type": "code",
   "execution_count": 4,
   "metadata": {},
   "outputs": [
    {
     "data": {
      "text/plain": [
       "'live'"
      ]
     },
     "execution_count": 4,
     "metadata": {},
     "output_type": "execute_result"
    }
   ],
   "source": [
    "# Your code here!\n",
    "live_index = words.index('live')\n",
    "live_len = len('live')\n",
    "words[live_index: live_index+live_len]"
   ]
  },
  {
   "cell_type": "code",
   "execution_count": 6,
   "metadata": {},
   "outputs": [
    {
     "data": {
      "text/plain": [
       "'live'"
      ]
     },
     "execution_count": 6,
     "metadata": {},
     "output_type": "execute_result"
    }
   ],
   "source": [
    "# option 2:\n",
    "words.split()[2]"
   ]
  },
  {
   "attachments": {},
   "cell_type": "markdown",
   "metadata": {},
   "source": [
    "👉 Ex4: Vị trí (index) của dấu \",\" đầu tiên là bao nhiêu? "
   ]
  },
  {
   "cell_type": "code",
   "execution_count": 7,
   "metadata": {},
   "outputs": [
    {
     "data": {
      "text/plain": [
       "18"
      ]
     },
     "execution_count": 7,
     "metadata": {},
     "output_type": "execute_result"
    }
   ],
   "source": [
    "# Your code here!\n",
    "words.index(',')"
   ]
  },
  {
   "attachments": {},
   "cell_type": "markdown",
   "metadata": {},
   "source": [
    "👉 Ex5: Đảo chiểu chuỗi `words` "
   ]
  },
  {
   "cell_type": "code",
   "execution_count": 8,
   "metadata": {},
   "outputs": [
    {
     "data": {
      "text/plain": [
       "'.hguone si ecno ,thgir ti od uoy fi tub ,ecno evil ylno uoY'"
      ]
     },
     "execution_count": 8,
     "metadata": {},
     "output_type": "execute_result"
    }
   ],
   "source": [
    "# Your code here!\n",
    "words[::-1]"
   ]
  },
  {
   "attachments": {},
   "cell_type": "markdown",
   "metadata": {},
   "source": [
    "👉 Ex6: Chỉ dùng lệnh (tức là bạn không cần phải đếm) để lấy ra câu` \"but if you do it right\" `trong chuỗi `words`"
   ]
  },
  {
   "cell_type": "code",
   "execution_count": 9,
   "metadata": {},
   "outputs": [
    {
     "data": {
      "text/plain": [
       "'You only live once, but if you do it right, once is enough.'"
      ]
     },
     "execution_count": 9,
     "metadata": {},
     "output_type": "execute_result"
    }
   ],
   "source": [
    "words"
   ]
  },
  {
   "cell_type": "code",
   "execution_count": 10,
   "metadata": {},
   "outputs": [
    {
     "data": {
      "text/plain": [
       "(18, 42)"
      ]
     },
     "execution_count": 10,
     "metadata": {},
     "output_type": "execute_result"
    }
   ],
   "source": [
    "# Your code here!\n",
    "first_comma_index = words.index(',')\n",
    "second_comma_index = words.index(',', first_comma_index+1)\n",
    "\n",
    "first_comma_index, second_comma_index"
   ]
  },
  {
   "cell_type": "code",
   "execution_count": 14,
   "metadata": {},
   "outputs": [
    {
     "data": {
      "text/plain": [
       "'but if you do it right'"
      ]
     },
     "execution_count": 14,
     "metadata": {},
     "output_type": "execute_result"
    }
   ],
   "source": [
    "ex6_result = words[first_comma_index+1: second_comma_index].strip()\n",
    "ex6_result"
   ]
  },
  {
   "attachments": {},
   "cell_type": "markdown",
   "metadata": {},
   "source": [
    "👉 Ex7: Nhập từ bàn phím 1 tên của một file bất kì, nhiệm vụ của bạn là in ra màn hình đuôi của tên file đó:\n",
    "\n",
    "Ví dụ:\n",
    "+ Bạn input: `'image.jpg'`\n",
    "+ Kết quả in ra màn hình là: `'.jpg'`"
   ]
  },
  {
   "cell_type": "code",
   "execution_count": 15,
   "metadata": {},
   "outputs": [
    {
     "name": "stdout",
     "output_type": "stream",
     "text": [
      "file extension is: .txt\n"
     ]
    }
   ],
   "source": [
    "# Your code here!\n",
    "file_name = input('pls input file name:')\n",
    "\n",
    "comma_index  = file_name.index('.')\n",
    "file_extension = file_name[comma_index:]\n",
    "\n",
    "print('file extension is:', file_extension)"
   ]
  },
  {
   "attachments": {},
   "cell_type": "markdown",
   "metadata": {},
   "source": [
    "👉 Ex8: Nhập từ bàn phím họ và tên của bạn, sau đó bạn in ra màn hình họ và độ dài họ và tên của bạn:\n",
    "\n",
    "Ví dụ:\n",
    "+ Bạn input: `'Trần Thành Tâm'`\n",
    "+ Kết quả in ra màn hình là: `Bạn họ \"Trần\", tên bạn có độ dài là: 14`"
   ]
  },
  {
   "cell_type": "code",
   "execution_count": 16,
   "metadata": {},
   "outputs": [
    {
     "name": "stdout",
     "output_type": "stream",
     "text": [
      "Bạn họ \"Trần\", tên bạn có độ dài là: 14\n"
     ]
    }
   ],
   "source": [
    "# your code here\n",
    "fullname = input('pls input your fullname:')\n",
    "fullname_len = len(fullname)\n",
    "firstname = fullname[: fullname.index(' ')]\n",
    "\n",
    "print('Bạn họ \"{}\", tên bạn có độ dài là: {}'.format(firstname, fullname_len))"
   ]
  }
 ],
 "metadata": {
  "kernelspec": {
   "display_name": "Python 3.9.15 ('DS')",
   "language": "python",
   "name": "python3"
  },
  "language_info": {
   "codemirror_mode": {
    "name": "ipython",
    "version": 3
   },
   "file_extension": ".py",
   "mimetype": "text/x-python",
   "name": "python",
   "nbconvert_exporter": "python",
   "pygments_lexer": "ipython3",
   "version": "3.12.4"
  },
  "orig_nbformat": 4,
  "vscode": {
   "interpreter": {
    "hash": "f6a489820ea9c3bee1f0f43e438377dc5d62d7d6492a1bda6ad9e3f1b3e1b203"
   }
  }
 },
 "nbformat": 4,
 "nbformat_minor": 2
}
